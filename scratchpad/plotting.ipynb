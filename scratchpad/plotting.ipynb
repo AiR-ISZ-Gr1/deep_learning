{
 "cells": [
  {
   "cell_type": "code",
   "execution_count": 20,
   "metadata": {},
   "outputs": [],
   "source": [
    "import sys\n",
    "\n",
    "sys.path.append(\"../src\")\n",
    "sys.path.append(\"..\")"
   ]
  },
  {
   "cell_type": "code",
   "execution_count": 21,
   "metadata": {},
   "outputs": [],
   "source": [
    "import matplotlib.pyplot as plt\n",
    "import networkx as nx"
   ]
  },
  {
   "cell_type": "code",
   "execution_count": 22,
   "metadata": {},
   "outputs": [],
   "source": [
    "from app import test_case_1"
   ]
  },
  {
   "cell_type": "markdown",
   "metadata": {},
   "source": []
  },
  {
   "cell_type": "code",
   "execution_count": 23,
   "metadata": {},
   "outputs": [
    {
     "data": {
      "text/plain": [
       "(['small', 'small', 'small', 'small', 'medium', 'large'],\n",
       " {'7': 1, '11': 1, '9': 3, '8': 1, '6': 12, '1': 4, '2': 2},\n",
       " <networkx.classes.graph.Graph at 0x7fb1ef4ca860>)"
      ]
     },
     "execution_count": 23,
     "metadata": {},
     "output_type": "execute_result"
    }
   ],
   "source": [
    "test_case_1()"
   ]
  },
  {
   "cell_type": "code",
   "execution_count": 24,
   "metadata": {},
   "outputs": [
    {
     "name": "stdout",
     "output_type": "stream",
     "text": [
      "(['small', 'small', 'small', 'small', 'medium', 'large'], {'7': 1, '11': 1, '9': 3, '8': 1, '6': 12, '1': 4, '2': 2}, <networkx.classes.graph.Graph object at 0x7fb1ef457d30>)\n"
     ]
    }
   ],
   "source": [
    "alg = test_case_1()\n",
    "print(alg)"
   ]
  },
  {
   "cell_type": "code",
   "execution_count": 25,
   "metadata": {},
   "outputs": [],
   "source": [
    "def plot(i):\n",
    "    G=nx.Graph(name=\"buba\")\n",
    "\n",
    "    routes = [alg.runtime_data['best_solutions'][-1][i]['path']]\n",
    "    edges = []\n",
    "    for r in routes:\n",
    "        route_edges = [(r[n],r[n+1]) for n in range(len(r)-1)]\n",
    "        G.add_nodes_from(r)\n",
    "        G.add_edges_from(route_edges)\n",
    "        edges.append(route_edges)\n",
    "\n",
    "    print(\"Graph has %d nodes with %d edges\" %(G.number_of_nodes(),    \n",
    "    G.number_of_edges()))\n",
    "\n",
    "    pos = nx.spring_layout(G)\n",
    "    nx.draw_networkx_nodes(G,pos=pos)\n",
    "    nx.draw_networkx_labels(G,pos=pos)\n",
    "    colors = ['r', 'b', 'y']\n",
    "    linewidths = [5,3,2]\n",
    "    for ctr, edgelist in enumerate(edges):\n",
    "        nx.draw_networkx_edges(G,pos=pos,edgelist=edgelist,edge_color = colors[ctr], width=linewidths[ctr])\n",
    "\n",
    "    plt.show()"
   ]
  },
  {
   "cell_type": "code",
   "execution_count": 26,
   "metadata": {},
   "outputs": [
    {
     "ename": "AttributeError",
     "evalue": "'tuple' object has no attribute 'ants'",
     "output_type": "error",
     "traceback": [
      "\u001b[0;31m---------------------------------------------------------------------------\u001b[0m",
      "\u001b[0;31mAttributeError\u001b[0m                            Traceback (most recent call last)",
      "Cell \u001b[0;32mIn[26], line 1\u001b[0m\n\u001b[0;32m----> 1\u001b[0m \u001b[38;5;28;01mfor\u001b[39;00m i \u001b[38;5;129;01min\u001b[39;00m \u001b[38;5;28mrange\u001b[39m(\u001b[38;5;28mlen\u001b[39m(\u001b[43malg\u001b[49m\u001b[38;5;241;43m.\u001b[39;49m\u001b[43mants\u001b[49m)):\n\u001b[1;32m      2\u001b[0m     plot(i)\n",
      "\u001b[0;31mAttributeError\u001b[0m: 'tuple' object has no attribute 'ants'"
     ]
    }
   ],
   "source": [
    "for i in range(len(alg.ants)):\n",
    "    plot(i)"
   ]
  },
  {
   "cell_type": "code",
   "execution_count": null,
   "metadata": {},
   "outputs": [
    {
     "ename": "AttributeError",
     "evalue": "'tuple' object has no attribute 'runtime_data'",
     "output_type": "error",
     "traceback": [
      "\u001b[0;31m---------------------------------------------------------------------------\u001b[0m",
      "\u001b[0;31mAttributeError\u001b[0m                            Traceback (most recent call last)",
      "Cell \u001b[0;32mIn[17], line 1\u001b[0m\n\u001b[0;32m----> 1\u001b[0m data \u001b[38;5;241m=\u001b[39m \u001b[43malg\u001b[49m\u001b[38;5;241;43m.\u001b[39;49m\u001b[43mruntime_data\u001b[49m[\u001b[38;5;124m'\u001b[39m\u001b[38;5;124mbest_scores\u001b[39m\u001b[38;5;124m'\u001b[39m] \u001b[38;5;241m+\u001b[39m [(alg\u001b[38;5;241m.\u001b[39mruntime_data[\u001b[38;5;124m'\u001b[39m\u001b[38;5;124mparams\u001b[39m\u001b[38;5;124m'\u001b[39m][\u001b[38;5;124m'\u001b[39m\u001b[38;5;124miter\u001b[39m\u001b[38;5;124m'\u001b[39m], alg\u001b[38;5;241m.\u001b[39mruntime_data[\u001b[38;5;124m'\u001b[39m\u001b[38;5;124mbest_scores\u001b[39m\u001b[38;5;124m'\u001b[39m][\u001b[38;5;241m-\u001b[39m\u001b[38;5;241m1\u001b[39m][\u001b[38;5;241m1\u001b[39m])]\n\u001b[1;32m      2\u001b[0m x \u001b[38;5;241m=\u001b[39m [point[\u001b[38;5;241m0\u001b[39m] \u001b[38;5;28;01mfor\u001b[39;00m point \u001b[38;5;129;01min\u001b[39;00m data]\n\u001b[1;32m      3\u001b[0m y \u001b[38;5;241m=\u001b[39m [point[\u001b[38;5;241m1\u001b[39m] \u001b[38;5;28;01mfor\u001b[39;00m point \u001b[38;5;129;01min\u001b[39;00m data]\n",
      "\u001b[0;31mAttributeError\u001b[0m: 'tuple' object has no attribute 'runtime_data'"
     ]
    }
   ],
   "source": [
    "data = alg.runtime_data['best_scores'] + [(alg.runtime_data['params']['iter'], alg.runtime_data['best_scores'][-1][1])]\n",
    "x = [point[0] for point in data]\n",
    "y = [point[1] for point in data]\n",
    "\n",
    "# Create a step plot\n",
    "plt.step(x, y, where='post')\n",
    "\n",
    "# Title and labels\n",
    "plt.title('Step Plot of Data')\n",
    "plt.xlabel('X')\n",
    "plt.ylabel('Y')\n",
    "\n",
    "# Show plot\n",
    "plt.show()\n"
   ]
  }
 ],
 "metadata": {
  "kernelspec": {
   "display_name": "Python 3",
   "language": "python",
   "name": "python3"
  },
  "language_info": {
   "codemirror_mode": {
    "name": "ipython",
    "version": 3
   },
   "file_extension": ".py",
   "mimetype": "text/x-python",
   "name": "python",
   "nbconvert_exporter": "python",
   "pygments_lexer": "ipython3",
   "version": "3.10.14"
  }
 },
 "nbformat": 4,
 "nbformat_minor": 2
}
